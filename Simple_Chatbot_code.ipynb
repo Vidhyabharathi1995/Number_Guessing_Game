{
  "nbformat": 4,
  "nbformat_minor": 0,
  "metadata": {
    "colab": {
      "provenance": [],
      "authorship_tag": "ABX9TyPpxNxEaR5u3Rv/OffuDr41",
      "include_colab_link": true
    },
    "kernelspec": {
      "name": "python3",
      "display_name": "Python 3"
    },
    "language_info": {
      "name": "python"
    }
  },
  "cells": [
    {
      "cell_type": "markdown",
      "metadata": {
        "id": "view-in-github",
        "colab_type": "text"
      },
      "source": [
        "<a href=\"https://colab.research.google.com/github/Vidhyabharathi1995/Python-Mini-Project/blob/main/Simple_Chatbot_code.ipynb\" target=\"_parent\"><img src=\"https://colab.research.google.com/assets/colab-badge.svg\" alt=\"Open In Colab\"/></a>"
      ]
    },
    {
      "cell_type": "code",
      "execution_count": 1,
      "metadata": {
        "colab": {
          "base_uri": "https://localhost:8080/"
        },
        "id": "PdAHbx8QMBaV",
        "outputId": "bca33f3d-973e-4622-dca0-ec5849ab6ac1"
      },
      "outputs": [
        {
          "output_type": "stream",
          "name": "stdout",
          "text": [
            "🤖 Hello! I am ChatBot. Type 'bye' to exit.\n",
            "You: how are you\n",
            "ChatBot: I'm just a bot, but I'm doing great! How about you?\n",
            "You: iam fine , bye\n",
            "ChatBot: Sorry, I didn't understand that. Can you rephrase?\n",
            "You: bye\n",
            "ChatBot: Goodbye! 👋\n"
          ]
        }
      ],
      "source": [
        "def chatbot():\n",
        "    print(\"🤖 Hello! I am ChatBot. Type 'bye' to exit.\")\n",
        "\n",
        "    responses = {\n",
        "        \"hi\": \"Hello! How are you?\",\n",
        "        \"hello\": \"Hi there! How can I help you?\",\n",
        "        \"how are you\": \"I'm just a bot, but I'm doing great! How about you?\",\n",
        "        \"what is your name\": \"I am ChatBot, your friendly assistant.\",\n",
        "        \"bye\": \"Goodbye! Have a great day! 👋\"\n",
        "    }\n",
        "\n",
        "    while True:\n",
        "        user_input = input(\"You: \").lower()\n",
        "\n",
        "        if user_input == \"bye\":\n",
        "            print(\"ChatBot: Goodbye! 👋\")\n",
        "            break\n",
        "        elif user_input in responses:\n",
        "            print(\"ChatBot:\", responses[user_input])\n",
        "        else:\n",
        "            print(\"ChatBot: Sorry, I didn't understand that. Can you rephrase?\")\n",
        "\n",
        "# Run the chatbot\n",
        "chatbot()"
      ]
    }
  ]
}