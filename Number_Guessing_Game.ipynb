{
  "nbformat": 4,
  "nbformat_minor": 0,
  "metadata": {
    "colab": {
      "provenance": [],
      "toc_visible": true,
      "authorship_tag": "ABX9TyN7Cc7QLm7wZd1yOVhb53bt",
      "include_colab_link": true
    },
    "kernelspec": {
      "name": "python3",
      "display_name": "Python 3"
    },
    "language_info": {
      "name": "python"
    }
  },
  "cells": [
    {
      "cell_type": "markdown",
      "metadata": {
        "id": "view-in-github",
        "colab_type": "text"
      },
      "source": [
        "<a href=\"https://colab.research.google.com/github/Vidhyabharathi1995/Number_Guessing_Game/blob/main/Number_Guessing_Game.ipynb\" target=\"_parent\"><img src=\"https://colab.research.google.com/assets/colab-badge.svg\" alt=\"Open In Colab\"/></a>"
      ]
    },
    {
      "cell_type": "code",
      "execution_count": 1,
      "metadata": {
        "colab": {
          "base_uri": "https://localhost:8080/"
        },
        "id": "GfoEd1i9E_Ce",
        "outputId": "d3e6304b-2ed6-4b21-b0fd-7df259e2bb35"
      },
      "outputs": [
        {
          "output_type": "stream",
          "name": "stdout",
          "text": [
            "Welcome to Number Guessing Game!\n",
            "Guess a number between 1 and 100\n",
            "Enter your guess: 67\n",
            "Too high! Try again.\n",
            "Enter your guess: 6\n",
            "Too low! Try again.\n",
            "Enter your guess: 54\n",
            "Too high! Try again.\n",
            "Enter your guess: 35\n",
            "Too high! Try again.\n",
            "Enter your guess: 24\n",
            "Too low! Try again.\n",
            "Enter your guess: 30\n",
            "Too low! Try again.\n",
            "Enter your guess: 32\n",
            "Too high! Try again.\n",
            "Enter your guess: 31\n",
            "🎉 Congratulations! You guessed it in 8 attempts.\n"
          ]
        }
      ],
      "source": [
        "import random\n",
        "\n",
        "def number_guessing_game():\n",
        "    number_to_guess = random.randint(1, 100)\n",
        "    attempts = 0\n",
        "\n",
        "    print(\"Welcome to Number Guessing Game!\")\n",
        "    print(\"Guess a number between 1 and 100\")\n",
        "\n",
        "    while True:\n",
        "        try:\n",
        "            guess = int(input(\"Enter your guess: \"))\n",
        "            attempts += 1\n",
        "            if guess < number_to_guess:\n",
        "                print(\"Too low! Try again.\")\n",
        "            elif guess > number_to_guess:\n",
        "                print(\"Too high! Try again.\")\n",
        "            else:\n",
        "                print(f\"🎉 Congratulations! You guessed it in {attempts} attempts.\")\n",
        "                break\n",
        "        except ValueError:\n",
        "            print(\"❌ Please enter a valid number.\")\n",
        "\n",
        "number_guessing_game()"
      ]
    }
  ]
}